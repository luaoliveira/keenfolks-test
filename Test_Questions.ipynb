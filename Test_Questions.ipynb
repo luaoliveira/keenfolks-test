{
 "cells": [
  {
   "attachments": {},
   "cell_type": "markdown",
   "metadata": {},
   "source": [
    "# Can you predict which NBA players will make the \"All-Star\" team?"
   ]
  },
  {
   "attachments": {},
   "cell_type": "markdown",
   "metadata": {},
   "source": [
    "## Part 1: Clean the data"
   ]
  },
  {
   "attachments": {},
   "cell_type": "markdown",
   "metadata": {},
   "source": [
    "#### Import Libraries"
   ]
  },
  {
   "cell_type": "code",
   "execution_count": 1,
   "metadata": {},
   "outputs": [],
   "source": [
    "import pandas as pd\n",
    "import matplotlib.pyplot as plt\n",
    "import seaborn as sns\n",
    "from xgboost import XGBClassifier\n",
    "from sklearn.model_selection import train_test_split\n",
    "from sklearn.metrics import confusion_matrix\n",
    "import itertools\n",
    "from collections import Counter\n",
    "from sklearn.preprocessing import LabelEncoder\n",
    "import numpy as np"
   ]
  },
  {
   "attachments": {},
   "cell_type": "markdown",
   "metadata": {},
   "source": [
    "#### Load 'player_data' and explore the basics that you feel are relevant "
   ]
  },
  {
   "cell_type": "code",
   "execution_count": 2,
   "metadata": {},
   "outputs": [
    {
     "data": {
      "text/plain": [
       "Index(['Year', 'Player', 'Pos', 'Age', 'Tm', 'G', 'PER', 'TS%', 'ORB%', 'DRB%',\n",
       "       'TRB%', 'AST%', 'STL%', 'BLK%', 'TOV%', 'WS', 'BPM', 'VORP', 'FG%',\n",
       "       '3P%', '2P%', 'eFG%', 'FT%', 'TRB', 'AST', 'STL', 'BLK', 'TOV', 'PTS'],\n",
       "      dtype='object')"
      ]
     },
     "execution_count": 2,
     "metadata": {},
     "output_type": "execute_result"
    }
   ],
   "source": [
    "df=pd.read_csv(\"player_data.csv\", delimiter=',')\n",
    "df.drop(columns=df.columns[0], axis=1,  inplace=True)\n",
    "\n",
    "df.head()\n",
    "\n",
    "df.columns"
   ]
  },
  {
   "attachments": {},
   "cell_type": "markdown",
   "metadata": {},
   "source": [
    "#### Drop the One column that you think will be useless for your use case"
   ]
  },
  {
   "cell_type": "code",
   "execution_count": 3,
   "metadata": {},
   "outputs": [
    {
     "name": "stdout",
     "output_type": "stream",
     "text": [
      "TOV%    20.691750\n",
      "3P%     37.564295\n",
      "TOV     20.436596\n",
      "dtype: float64\n"
     ]
    }
   ],
   "source": [
    "\n",
    "null_percentage = (df.isnull().sum() / len(df)) * 100\n",
    "\n",
    "# Just checking if there was any column with a super high percentage of nulls that would be good to drop, \n",
    "# but I see there is a task later on to fill those values so I don't think this is a good approach.\n",
    "print(null_percentage[null_percentage > 20])"
   ]
  },
  {
   "cell_type": "code",
   "execution_count": 4,
   "metadata": {},
   "outputs": [
    {
     "name": "stderr",
     "output_type": "stream",
     "text": [
      "C:\\Users\\luana\\AppData\\Local\\Temp\\ipykernel_25368\\2312581054.py:1: FutureWarning: The default value of numeric_only in DataFrame.corr is deprecated. In a future version, it will default to False. Select only valid columns or specify the value of numeric_only to silence this warning.\n",
      "  correlation_matrix=df.corr()\n"
     ]
    }
   ],
   "source": [
    "correlation_matrix=df.corr()"
   ]
  },
  {
   "cell_type": "code",
   "execution_count": 5,
   "metadata": {},
   "outputs": [
    {
     "name": "stdout",
     "output_type": "stream",
     "text": [
      "{'Column_1': 'FG%', 'Column_2': 'eFG%', 'Correlation_Value': 0.9443898029542377}\n",
      "{'Column_1': 'eFG%', 'Column_2': 'FG%', 'Correlation_Value': 0.9443898029542377}\n",
      "{'Column_1': 'TS%', 'Column_2': 'eFG%', 'Correlation_Value': 0.9401293905262684}\n",
      "{'Column_1': 'eFG%', 'Column_2': 'TS%', 'Correlation_Value': 0.9401293905262684}\n",
      "{'Column_1': 'FG%', 'Column_2': '2P%', 'Correlation_Value': 0.9368610752096087}\n",
      "{'Column_1': '2P%', 'Column_2': 'FG%', 'Correlation_Value': 0.9368610752096087}\n",
      "{'Column_1': '2P%', 'Column_2': 'eFG%', 'Correlation_Value': 0.913061260485256}\n",
      "{'Column_1': 'eFG%', 'Column_2': '2P%', 'Correlation_Value': 0.913061260485256}\n",
      "{'Column_1': 'TOV', 'Column_2': 'PTS', 'Correlation_Value': 0.9098953256508043}\n",
      "{'Column_1': 'PTS', 'Column_2': 'TOV', 'Correlation_Value': 0.9098953256508043}\n",
      "{'Column_1': 'WS', 'Column_2': 'VORP', 'Correlation_Value': 0.905952850287726}\n",
      "{'Column_1': 'VORP', 'Column_2': 'WS', 'Correlation_Value': 0.905952850287726}\n",
      "{'Column_1': 'DRB%', 'Column_2': 'TRB%', 'Correlation_Value': 0.9018585211477514}\n",
      "{'Column_1': 'TRB%', 'Column_2': 'DRB%', 'Correlation_Value': 0.9018585211477514}\n",
      "{'Column_1': 'TS%', 'Column_2': 'FG%', 'Correlation_Value': 0.8968564485362358}\n"
     ]
    }
   ],
   "source": [
    "# Create an array of dictionaries to store correlations and column names\n",
    "correlation_list = []\n",
    "\n",
    "# Iterate through the correlation matrix and populate the array of dictionaries\n",
    "for row in correlation_matrix.index:\n",
    "    for column in correlation_matrix.columns:\n",
    "        if row != column:\n",
    "            correlation_value = correlation_matrix.loc[row, column]\n",
    "            correlation_dict = {\n",
    "                'Column_1': row,\n",
    "                'Column_2': column,\n",
    "                'Correlation_Value': correlation_value\n",
    "            }\n",
    "            correlation_list.append(correlation_dict)\n",
    "\n",
    "sorted_correlation_list = sorted(correlation_list, key=lambda x: x['Correlation_Value'], reverse=True)\n",
    "\n",
    "# Print the sorted array of dictionaries\n",
    "for i in range(15):\n",
    "    print(sorted_correlation_list[i])\n"
   ]
  },
  {
   "cell_type": "code",
   "execution_count": 6,
   "metadata": {},
   "outputs": [
    {
     "name": "stdout",
     "output_type": "stream",
     "text": [
      "Counter({'eFG%': 6, 'FG%': 4, '2P%': 4, 'TS%': 2, 'TOV': 2, 'PTS': 2, 'WS': 2, 'VORP': 2, 'DRB%': 2, 'TRB%': 2})\n"
     ]
    }
   ],
   "source": [
    "#key_counts = Counter(item[target_key] for item in sorted_correlation_list)\n",
    "filter_list=[(x[\"Column_1\"], x[\"Column_2\"]) for x in sorted_correlation_list if x[\"Correlation_Value\"] >= 0.9]\n",
    "\n",
    "print(Counter(itertools.chain(*filter_list)))"
   ]
  },
  {
   "cell_type": "code",
   "execution_count": 7,
   "metadata": {},
   "outputs": [],
   "source": [
    "df.drop(\"eFG%\", inplace=True, axis=1)"
   ]
  },
  {
   "attachments": {},
   "cell_type": "markdown",
   "metadata": {},
   "source": [
    "I Drop the eFG column because the correlation matrix gives me the information that eFG is above 90% correlated to other three columns so I would be too redundant to use it."
   ]
  },
  {
   "attachments": {},
   "cell_type": "markdown",
   "metadata": {},
   "source": [
    "#### Replace null values with 0's in the '3P%' column"
   ]
  },
  {
   "cell_type": "code",
   "execution_count": 8,
   "metadata": {},
   "outputs": [],
   "source": [
    "df[\"3P%\"].fillna(value=0, inplace=True)"
   ]
  },
  {
   "attachments": {},
   "cell_type": "markdown",
   "metadata": {},
   "source": [
    "#### Remove rows for players who Started their careers (made their Debut) before the 1980 season"
   ]
  },
  {
   "cell_type": "code",
   "execution_count": 9,
   "metadata": {},
   "outputs": [],
   "source": [
    "df_players= df[df[\"Year\"] < 1980][\"Player\"].unique()"
   ]
  },
  {
   "cell_type": "code",
   "execution_count": 10,
   "metadata": {},
   "outputs": [],
   "source": [
    "df_filtered=df[~df[\"Player\"].isin(df_players)].copy()\n",
    "df=df_filtered.copy()\n"
   ]
  },
  {
   "attachments": {},
   "cell_type": "markdown",
   "metadata": {},
   "source": [
    "#### Load in the 'all_star_appearances.pickle' file and use this data to create a column called 'all_star' that indicates whether or not a player made the All-Star team for a given year\n",
    "- This file is a dictionary in which the keys are players who've made an All-Star team in their careers\n",
    "- The values are all the years that the corresponding player made an All-Star team"
   ]
  },
  {
   "cell_type": "code",
   "execution_count": 11,
   "metadata": {},
   "outputs": [],
   "source": [
    "all_star = pd.read_pickle(\"all_star_appearances.pickle\")\n",
    "all_star = dict(all_star)"
   ]
  },
  {
   "cell_type": "code",
   "execution_count": 12,
   "metadata": {},
   "outputs": [],
   "source": [
    "# The approach here is to verify in the all_star dictionary if that Year was contained in the list of years of that Player.\n",
    "\n",
    "df[\"is_in\"] = df[[\"Player\", \"Year\"]].apply(lambda x: x[\"Year\"] in all_star.get(x[\"Player\"],[]),axis=1 )"
   ]
  },
  {
   "attachments": {},
   "cell_type": "markdown",
   "metadata": {},
   "source": [
    "#### Make sure this column is binary where 1 = Made All-Star team, and 0 = Did not make All-Star team"
   ]
  },
  {
   "cell_type": "code",
   "execution_count": 13,
   "metadata": {},
   "outputs": [],
   "source": [
    "# To assure the values follows the specification, the booleans are cast to int\n",
    "df[\"is_in\"] = df[\"is_in\"].apply(lambda x : int(x))"
   ]
  },
  {
   "attachments": {},
   "cell_type": "markdown",
   "metadata": {},
   "source": [
    "## Part 2: Exploratory data analysis"
   ]
  },
  {
   "attachments": {},
   "cell_type": "markdown",
   "metadata": {},
   "source": [
    "#### Generate descriptive stats for the features"
   ]
  },
  {
   "attachments": {},
   "cell_type": "markdown",
   "metadata": {},
   "source": [
    "#### Graph the distibution of the 'Age' feature. What conclusion can you reach from this?"
   ]
  },
  {
   "cell_type": "code",
   "execution_count": 14,
   "metadata": {},
   "outputs": [
    {
     "data": {
      "text/plain": [
       "<seaborn.axisgrid.FacetGrid at 0x17f8bc0c310>"
      ]
     },
     "execution_count": 14,
     "metadata": {},
     "output_type": "execute_result"
    },
    {
     "data": {
      "image/png": "[encoded data removed]",
      "text/plain": [
       "<Figure size 500x500 with 1 Axes>"
      ]
     },
     "metadata": {},
     "output_type": "display_data"
    }
   ],
   "source": [
    "sns.displot(df[\"Age\"],kde=True, color=\"Red\")"
   ]
  },
  {
   "attachments": {},
   "cell_type": "markdown",
   "metadata": {},
   "source": [
    "From the distribution of the players age we can notice a few things:\n",
    "\n",
    "The majority of NBA players are 24 years old.\n",
    "\n",
    "The distribution is right skewed which means that the mean is greater than the mode. In this case, when we create a description of Age column we can see that the mean is amost 26.6 years old, but the mode is 24."
   ]
  },
  {
   "attachments": {},
   "cell_type": "markdown",
   "metadata": {},
   "source": [
    "#### Create a correlation map of the features"
   ]
  },
  {
   "cell_type": "code",
   "execution_count": 15,
   "metadata": {},
   "outputs": [
    {
     "name": "stderr",
     "output_type": "stream",
     "text": [
      "C:\\Users\\luana\\AppData\\Local\\Temp\\ipykernel_25368\\752845423.py:1: FutureWarning: The default value of numeric_only in DataFrame.corr is deprecated. In a future version, it will default to False. Select only valid columns or specify the value of numeric_only to silence this warning.\n",
      "  correlation_matrix = df.corr()\n"
     ]
    },
    {
     "data": {
      "image/png": "[encoded data removed]",
      "text/plain": [
       "<Figure size 800x600 with 1 Axes>"
      ]
     },
     "metadata": {},
     "output_type": "display_data"
    }
   ],
   "source": [
    "correlation_matrix = df.corr()\n",
    "\n",
    "# Create a heatmap using Seaborn\n",
    "plt.figure(figsize=(8, 6))\n",
    "sns.heatmap(correlation_matrix, annot=False, cmap='coolwarm', center=0,cbar=False)\n",
    "plt.title('Correlation Map')\n",
    "plt.show()"
   ]
  },
  {
   "attachments": {},
   "cell_type": "markdown",
   "metadata": {},
   "source": [
    "#### Remove Features that you consider to be too correlated or \"duplicated\""
   ]
  },
  {
   "cell_type": "code",
   "execution_count": 16,
   "metadata": {},
   "outputs": [],
   "source": [
    "#Dropping the FG column because its correlation with other two columns is above 90% so It would be too redundant to use it.\n",
    "df.drop(\"FG%\", inplace=True, axis=1)"
   ]
  },
  {
   "attachments": {},
   "cell_type": "markdown",
   "metadata": {},
   "source": [
    "## Part 3: Modeling"
   ]
  },
  {
   "attachments": {},
   "cell_type": "markdown",
   "metadata": {},
   "source": [
    "#### Build a simple classifier that predicts whether or not a player makes an All-Star team based on their stats for that season."
   ]
  },
  {
   "cell_type": "code",
   "execution_count": 17,
   "metadata": {},
   "outputs": [],
   "source": [
    "df = df.dropna()\n",
    "y = df[['is_in','Player']]\n",
    "X = df.drop(['is_in', 'Player'], axis=1)\n"
   ]
  },
  {
   "cell_type": "code",
   "execution_count": 18,
   "metadata": {},
   "outputs": [],
   "source": [
    "label_encoder = LabelEncoder()\n",
    "X['Pos'] = label_encoder.fit_transform(X['Pos'])\n",
    "X['Tm'] = label_encoder.fit_transform(X['Tm'])"
   ]
  },
  {
   "cell_type": "code",
   "execution_count": 19,
   "metadata": {},
   "outputs": [],
   "source": [
    "X_train, X_test, y_train, y_test = train_test_split(X,y,test_size=0.3)"
   ]
  },
  {
   "cell_type": "code",
   "execution_count": 20,
   "metadata": {},
   "outputs": [],
   "source": [
    "model = XGBClassifier()"
   ]
  },
  {
   "cell_type": "code",
   "execution_count": 21,
   "metadata": {},
   "outputs": [
    {
     "data": {
      "text/html": [
       "<style>#sk-container-id-1 {color: black;background-color: white;}#sk-container-id-1 pre{padding: 0;}#sk-container-id-1 div.sk-toggleable {background-color: white;}#sk-container-id-1 label.sk-toggleable__label {cursor: pointer;display: block;width: 100%;margin-bottom: 0;padding: 0.3em;box-sizing: border-box;text-align: center;}#sk-container-id-1 label.sk-toggleable__label-arrow:before {content: \"▸\";float: left;margin-right: 0.25em;color: #696969;}#sk-container-id-1 label.sk-toggleable__label-arrow:hover:before {color: black;}#sk-container-id-1 div.sk-estimator:hover label.sk-toggleable__label-arrow:before {color: black;}#sk-container-id-1 div.sk-toggleable__content {max-height: 0;max-width: 0;overflow: hidden;text-align: left;background-color: #f0f8ff;}#sk-container-id-1 div.sk-toggleable__content pre {margin: 0.2em;color: black;border-radius: 0.25em;background-color: #f0f8ff;}#sk-container-id-1 input.sk-toggleable__control:checked~div.sk-toggleable__content {max-height: 200px;max-width: 100%;overflow: auto;}#sk-container-id-1 input.sk-toggleable__control:checked~label.sk-toggleable__label-arrow:before {content: \"▾\";}#sk-container-id-1 div.sk-estimator input.sk-toggleable__control:checked~label.sk-toggleable__label {background-color: #d4ebff;}#sk-container-id-1 div.sk-label input.sk-toggleable__control:checked~label.sk-toggleable__label {background-color: #d4ebff;}#sk-container-id-1 input.sk-hidden--visually {border: 0;clip: rect(1px 1px 1px 1px);clip: rect(1px, 1px, 1px, 1px);height: 1px;margin: -1px;overflow: hidden;padding: 0;position: absolute;width: 1px;}#sk-container-id-1 div.sk-estimator {font-family: monospace;background-color: #f0f8ff;border: 1px dotted black;border-radius: 0.25em;box-sizing: border-box;margin-bottom: 0.5em;}#sk-container-id-1 div.sk-estimator:hover {background-color: #d4ebff;}#sk-container-id-1 div.sk-parallel-item::after {content: \"\";width: 100%;border-bottom: 1px solid gray;flex-grow: 1;}#sk-container-id-1 div.sk-label:hover label.sk-toggleable__label {background-color: #d4ebff;}#sk-container-id-1 div.sk-serial::before {content: \"\";position: absolute;border-left: 1px solid gray;box-sizing: border-box;top: 0;bottom: 0;left: 50%;z-index: 0;}#sk-container-id-1 div.sk-serial {display: flex;flex-direction: column;align-items: center;background-color: white;padding-right: 0.2em;padding-left: 0.2em;position: relative;}#sk-container-id-1 div.sk-item {position: relative;z-index: 1;}#sk-container-id-1 div.sk-parallel {display: flex;align-items: stretch;justify-content: center;background-color: white;position: relative;}#sk-container-id-1 div.sk-item::before, #sk-container-id-1 div.sk-parallel-item::before {content: \"\";position: absolute;border-left: 1px solid gray;box-sizing: border-box;top: 0;bottom: 0;left: 50%;z-index: -1;}#sk-container-id-1 div.sk-parallel-item {display: flex;flex-direction: column;z-index: 1;position: relative;background-color: white;}#sk-container-id-1 div.sk-parallel-item:first-child::after {align-self: flex-end;width: 50%;}#sk-container-id-1 div.sk-parallel-item:last-child::after {align-self: flex-start;width: 50%;}#sk-container-id-1 div.sk-parallel-item:only-child::after {width: 0;}#sk-container-id-1 div.sk-dashed-wrapped {border: 1px dashed gray;margin: 0 0.4em 0.5em 0.4em;box-sizing: border-box;padding-bottom: 0.4em;background-color: white;}#sk-container-id-1 div.sk-label label {font-family: monospace;font-weight: bold;display: inline-block;line-height: 1.2em;}#sk-container-id-1 div.sk-label-container {text-align: center;}#sk-container-id-1 div.sk-container {/* jupyter's `normalize.less` sets `[hidden] { display: none; }` but bootstrap.min.css set `[hidden] { display: none !important; }` so we also need the `!important` here to be able to override the default hidden behavior on the sphinx rendered scikit-learn.org. See: https://github.com/scikit-learn/scikit-learn/issues/21755 */display: inline-block !important;position: relative;}#sk-container-id-1 div.sk-text-repr-fallback {display: none;}</style><div id=\"sk-container-id-1\" class=\"sk-top-container\"><div class=\"sk-text-repr-fallback\"><pre>XGBClassifier(base_score=None, booster=None, callbacks=None,\n",
       "              colsample_bylevel=None, colsample_bynode=None,\n",
       "              colsample_bytree=None, early_stopping_rounds=None,\n",
       "              enable_categorical=False, eval_metric=None, feature_types=None,\n",
       "              gamma=None, gpu_id=None, grow_policy=None, importance_type=None,\n",
       "              interaction_constraints=None, learning_rate=None, max_bin=None,\n",
       "              max_cat_threshold=None, max_cat_to_onehot=None,\n",
       "              max_delta_step=None, max_depth=None, max_leaves=None,\n",
       "              min_child_weight=None, missing=nan, monotone_constraints=None,\n",
       "              n_estimators=100, n_jobs=None, num_parallel_tree=None,\n",
       "              predictor=None, random_state=None, ...)</pre><b>In a Jupyter environment, please rerun this cell to show the HTML representation or trust the notebook. <br />On GitHub, the HTML representation is unable to render, please try loading this page with nbviewer.org.</b></div><div class=\"sk-container\" hidden><div class=\"sk-item\"><div class=\"sk-estimator sk-toggleable\"><input class=\"sk-toggleable__control sk-hidden--visually\" id=\"sk-estimator-id-1\" type=\"checkbox\" checked><label for=\"sk-estimator-id-1\" class=\"sk-toggleable__label sk-toggleable__label-arrow\">XGBClassifier</label><div class=\"sk-toggleable__content\"><pre>XGBClassifier(base_score=None, booster=None, callbacks=None,\n",
       "              colsample_bylevel=None, colsample_bynode=None,\n",
       "              colsample_bytree=None, early_stopping_rounds=None,\n",
       "              enable_categorical=False, eval_metric=None, feature_types=None,\n",
       "              gamma=None, gpu_id=None, grow_policy=None, importance_type=None,\n",
       "              interaction_constraints=None, learning_rate=None, max_bin=None,\n",
       "              max_cat_threshold=None, max_cat_to_onehot=None,\n",
       "              max_delta_step=None, max_depth=None, max_leaves=None,\n",
       "              min_child_weight=None, missing=nan, monotone_constraints=None,\n",
       "              n_estimators=100, n_jobs=None, num_parallel_tree=None,\n",
       "              predictor=None, random_state=None, ...)</pre></div></div></div></div></div>"
      ],
      "text/plain": [
       "XGBClassifier(base_score=None, booster=None, callbacks=None,\n",
       "              colsample_bylevel=None, colsample_bynode=None,\n",
       "              colsample_bytree=None, early_stopping_rounds=None,\n",
       "              enable_categorical=False, eval_metric=None, feature_types=None,\n",
       "              gamma=None, gpu_id=None, grow_policy=None, importance_type=None,\n",
       "              interaction_constraints=None, learning_rate=None, max_bin=None,\n",
       "              max_cat_threshold=None, max_cat_to_onehot=None,\n",
       "              max_delta_step=None, max_depth=None, max_leaves=None,\n",
       "              min_child_weight=None, missing=nan, monotone_constraints=None,\n",
       "              n_estimators=100, n_jobs=None, num_parallel_tree=None,\n",
       "              predictor=None, random_state=None, ...)"
      ]
     },
     "execution_count": 21,
     "metadata": {},
     "output_type": "execute_result"
    }
   ],
   "source": [
    "model.fit(X_train, y_train['is_in'])"
   ]
  },
  {
   "cell_type": "code",
   "execution_count": 22,
   "metadata": {},
   "outputs": [],
   "source": [
    "y_pred = model.predict(X_test)"
   ]
  },
  {
   "cell_type": "code",
   "execution_count": 23,
   "metadata": {},
   "outputs": [],
   "source": [
    "y_test[\"pred\"] = y_pred\n"
   ]
  },
  {
   "cell_type": "code",
   "execution_count": 24,
   "metadata": {},
   "outputs": [],
   "source": [
    "cm = confusion_matrix(y_test['is_in'], y_test['pred'])"
   ]
  },
  {
   "cell_type": "code",
   "execution_count": 25,
   "metadata": {},
   "outputs": [
    {
     "name": "stdout",
     "output_type": "stream",
     "text": [
      "Normalized Confusion Matrix:\n",
      "              Predicted Class 0  Predicted Class 1\n",
      "True Class 0           0.991935           0.008065\n",
      "True Class 1           0.484663           0.515337\n"
     ]
    }
   ],
   "source": [
    "normalized_cm = cm.astype('float') / cm.sum(axis=1)[:, np.newaxis]\n",
    "\n",
    "# Create a DataFrame for the normalized confusion matrix\n",
    "normalized_cm_df = pd.DataFrame(normalized_cm, index=[\"True Class 0\", \"True Class 1\"], columns=[\"Predicted Class 0\", \"Predicted Class 1\"])\n",
    "\n",
    "# Print the normalized confusion matrix table\n",
    "print(\"Normalized Confusion Matrix:\")\n",
    "print(normalized_cm_df)"
   ]
  },
  {
   "attachments": {},
   "cell_type": "markdown",
   "metadata": {},
   "source": [
    "The confusion matrix above gives us an ideia of how well our model predicted the players that were and were not selected to all star game.\n",
    "\n",
    "We can see that for all players that were not selected, our model did very well, having predicted 99% of them correctly.\n",
    "\n",
    "Unfortunately for all the players that were selected, our model didn't go that well, having predicted correctly only 51% of them.\n",
    "\n",
    "That being said, this is likely because our dataset is unbalanced in a way that there are more players that end up not making all star than those who do."
   ]
  },
  {
   "attachments": {},
   "cell_type": "markdown",
   "metadata": {},
   "source": [
    "## Part 4: Data Engineering"
   ]
  },
  {
   "attachments": {},
   "cell_type": "markdown",
   "metadata": {},
   "source": [
    "#### Imagine that we are in 2017 and we collect this data from each of the 31 teams that play on the NBA. Each one of the teams exposes a REST API endpoint for us to extract the data and process it, this means that we have to do 31 different GET requests on each update. We are building a Web Application for ESPN and they need this data to be updated on daily basis, so when sports analysts start working in the morning they have fresh stats to go over and can give informed predictions in TV about which players will be making the All-Star team. We have an approximate of 12 users that will be using the product on daily basis.\n",
    "\n",
    "#### At the end of each season, we will update the Pickle file (which is stored in a Bucket in Cloud Object Storage) to include the players that were included in the All-Star team and keep the dataset and model updated. All the development will be done in Python, and the architecture of the ETL process will be defined by you, along with the Cloud Service Provider (you can choose between AWS, GCP, Azure). Don't worry about the Backend and Frontend of the App, that will be defined and implemented by the Development team, but they are waiting on your decision on which database to use."
   ]
  },
  {
   "attachments": {},
   "cell_type": "markdown",
   "metadata": {},
   "source": [
    "#### Would you use a dedicated server or a serverless architecture? Why?"
   ]
  },
  {
   "attachments": {},
   "cell_type": "markdown",
   "metadata": {},
   "source": [
    "I would use a serverless architecture for the following reasons:\n",
    "\n",
    "* It is easier and practical to manage, since we are not responsible for provision of machines and for the infrastructure.\n",
    "In this way we only need to take care of pythons scripts that would do the jobs.\n",
    "\n",
    "* We don't actually need a dedicated server since the routines would be done a low number of times per day. It would be\n",
    "cheaper, instead of paying for a full dedicated machine we would only pay for the time the processes are running or requests are made."
   ]
  },
  {
   "attachments": {},
   "cell_type": "markdown",
   "metadata": {},
   "source": [
    "#### What Computing resources would you use? Why?"
   ]
  },
  {
   "attachments": {},
   "cell_type": "markdown",
   "metadata": {},
   "source": [
    "* Google Functions : To execute scripts that would move the data from one place to another, for example, to extract the data from the APIs and load them into BigQuery.\n",
    "\n",
    "* Cloud Run API : To deploy the container that will load the ML model, generate the predictions and make it available on the API.\n",
    "\n",
    "* Cloud Build API : This service will basically allow us to configure the environment and the CI/CD."
   ]
  },
  {
   "attachments": {},
   "cell_type": "markdown",
   "metadata": {},
   "source": [
    "#### What type of storage would you choose? How would you guarantee data quality and consistency?"
   ]
  },
  {
   "attachments": {},
   "cell_type": "markdown",
   "metadata": {},
   "source": [
    "* Google Stortage - For the pickle file, since It is mentioned that it should be in a Cloud Object Storage.\n",
    "\n",
    "* Google Big Query - To store the teams data and the predictions made by the ML model."
   ]
  },
  {
   "attachments": {},
   "cell_type": "markdown",
   "metadata": {},
   "source": [
    "#### What Security considerations would you implement for these architecture?"
   ]
  },
  {
   "attachments": {},
   "cell_type": "markdown",
   "metadata": {},
   "source": [
    "The only security consideration I would make would be to use Google OAuth to authorize the client in the browser when they access the API. The client would use the HTTP Authorization to make requests to Cloud Run."
   ]
  },
  {
   "attachments": {},
   "cell_type": "markdown",
   "metadata": {},
   "source": [
    "#### What type of monitoring, costs analysis and application performance should this architecture have?"
   ]
  },
  {
   "attachments": {},
   "cell_type": "markdown",
   "metadata": {},
   "source": [
    "Google offers a service in which we can export the billing costs of a project to BigQuery,\n",
    "thus we can use this to keep track of the costs involved in all the services linked to this\n",
    "especific project and connect Big Query to Power BI, for example, to build reports on these costs."
   ]
  },
  {
   "attachments": {},
   "cell_type": "markdown",
   "metadata": {},
   "source": [
    "#### Please do a simple sketch of the Architecture for this application and explain it in a brief paragraph (you can keep it simple, don't worry too much about the design)"
   ]
  },
  {
   "attachments": {},
   "cell_type": "markdown",
   "metadata": {},
   "source": [
    "There would be daily routines triggered by Google Scheduler to extract the data from the teams APIs (31 as mentioned in the description). They would be extracted via Google Functions (data can be treated during this process) and then stored in BigQuery. Once the data is available in BigQuery it is then consumed by the ML model that will run in a Docker container using Cloud Run API, and this service will also provide an API Endpoint from which the Back End of some application (app or website) can access the predictions. Once the predictions are available, we can also store them on BigQuery so we have all the predictions available for analysts to have a complete historic of the player's probability of entering all star. Once a year, when the all star players were revealed we would have a bucket with an event trigger and once we put their names in this bucket, it would trigger a function that would include it on the pickle file that would be stored in another bucket."
   ]
  },
  {
   "attachments": {},
   "cell_type": "markdown",
   "metadata": {},
   "source": [
    "![Architecture](arch_all_star.png \"Architecture drawing\")"
   ]
  },
  {
   "attachments": {},
   "cell_type": "markdown",
   "metadata": {},
   "source": []
  }
 ],
 "metadata": {
  "kernelspec": {
   "display_name": "Python 3 (ipykernel)",
   "language": "python",
   "name": "python3"
  },
  "language_info": {
   "codemirror_mode": {
    "name": "ipython",
    "version": 3
   },
   "file_extension": ".py",
   "mimetype": "text/x-python",
   "name": "python",
   "nbconvert_exporter": "python",
   "pygments_lexer": "ipython3",
   "version": "3.11.1"
  },
  "varInspector": {
   "cols": {
    "lenName": 16,
    "lenType": 16,
    "lenVar": 40
   },
   "kernels_config": {
    "python": {
     "delete_cmd_postfix": "",
     "delete_cmd_prefix": "del ",
     "library": "var_list.py",
     "varRefreshCmd": "print(var_dic_list())"
    },
    "r": {
     "delete_cmd_postfix": ") ",
     "delete_cmd_prefix": "rm(",
     "library": "var_list.r",
     "varRefreshCmd": "cat(var_dic_list()) "
    }
   },
   "types_to_exclude": [
    "module",
    "function",
    "builtin_function_or_method",
    "instance",
    "_Feature"
   ],
   "window_display": false
  }
 },
 "nbformat": 4,
 "nbformat_minor": 4
}
